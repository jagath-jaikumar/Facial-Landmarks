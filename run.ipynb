{
 "cells": [
  {
   "cell_type": "code",
   "execution_count": 1,
   "metadata": {},
   "outputs": [],
   "source": [
    "import time\n",
    "import numpy as np\n",
    "from scipy.io import loadmat\n",
    "from showFacialLandmarks import showFacialLandmarks\n",
    "from trainRNN import trainRNN\n",
    "from testRNN import testRNN\n",
    "import matplotlib.pyplot as plt"
   ]
  },
  {
   "cell_type": "code",
   "execution_count": 2,
   "metadata": {},
   "outputs": [
    {
     "name": "stdout",
     "output_type": "stream",
     "text": [
      "X_test (1, 3)\n",
      "X_train (50000, 65)\n",
      "Y_test (1, 3)\n",
      "Y_train (50000, 76)\n",
      "neutral_face (1, 76)\n"
     ]
    }
   ],
   "source": [
    "# run script\n",
    "\n",
    "# load train/test dataset\n",
    "data = loadmat('starter_data.mat') # command this line if data is loaded\n",
    "\n",
    "for key in data.keys():\n",
    "    try:\n",
    "        print(key, data[key].shape)\n",
    "    except:\n",
    "        pass"
   ]
  },
  {
   "cell_type": "code",
   "execution_count": 4,
   "metadata": {},
   "outputs": [],
   "source": [
    "# want to see the training facial landmarks? Uncomment the following lines\n",
    "\n",
    "# for i in range(0, data['Y_train'].shape[0]):\n",
    "#     plt = showFacialLandmarks(data['Y_train'][i, :], 0, 'r-')\n",
    "#     plt.pause(0.01)\n",
    "#     plt.clf()\n",
    "\n",
    "# plt.show()"
   ]
  },
  {
   "cell_type": "code",
   "execution_count": 6,
   "metadata": {},
   "outputs": [],
   "source": [
    "# Uncomment the following line to see a single, neutral (silent) face.\n",
    "# The net will produce displacements of landmarks relative to this neutral face\n",
    "\n",
    "# plt = showFacialLandmarks(data['neutral_face'][0], 1.5, 'b-')\n",
    "# plt.show()"
   ]
  },
  {
   "cell_type": "code",
   "execution_count": null,
   "metadata": {},
   "outputs": [],
   "source": [
    "# train the RNN model\n",
    "# the code will run on your CPU (it might take around 10-30 min to finish training depending on your machine)\n",
    "# obviously, it would be more desirable to train a deep RNN on GPUs, yet\n",
    "# for the purpose of this course assignment, a small RNN is enough\n",
    "#\n",
    "start_time = time.time()\n",
    "model, options  = trainRNN(data['X_train'], data['Y_train'], data['neutral_face'])\n",
    "print('Time usage:', time.time() - start_time)"
   ]
  },
  {
   "cell_type": "code",
   "execution_count": null,
   "metadata": {},
   "outputs": [],
   "source": [
    "# test model on test sequences (will use trained model & options)\n",
    "testRNN(data, model, options)"
   ]
  }
 ],
 "metadata": {
  "kernelspec": {
   "display_name": "Python 3",
   "language": "python",
   "name": "python3"
  },
  "language_info": {
   "codemirror_mode": {
    "name": "ipython",
    "version": 3
   },
   "file_extension": ".py",
   "mimetype": "text/x-python",
   "name": "python",
   "nbconvert_exporter": "python",
   "pygments_lexer": "ipython3",
   "version": "3.7.2"
  }
 },
 "nbformat": 4,
 "nbformat_minor": 2
}
